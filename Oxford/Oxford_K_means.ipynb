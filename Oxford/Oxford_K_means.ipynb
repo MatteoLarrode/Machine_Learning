{
  "cells": [
    {
      "cell_type": "markdown",
      "metadata": {
        "id": "mQ1SLWKG__38"
      },
      "source": [
        "# **Matrix matrix multiplication**\n"
      ]
    },
    {
      "cell_type": "code",
      "execution_count": 1,
      "metadata": {
        "id": "gp_gVIO1pEj8"
      },
      "outputs": [],
      "source": [
        "def matrix_matrix_multiplication(mat_a, mat_b):\n",
        "  \"\"\"\n",
        "  Multiply two matrices A and B (2D lists or 2D arrays) without using built-in\n",
        "    matrix multiplication functions.\n",
        "\n",
        "  Steps to implement:\n",
        "  1. Read or define matrix A.\n",
        "  2. Read or define matrix B.\n",
        "      - Make sure the number of columns of A matches the number of rows of B\n",
        "  3. Create a result matrix C, initialized to zeros, with dimensions:\n",
        "      (rows of A) x (columns of B).\n",
        "  4. Perform the multiplication:\n",
        "  5. Return or print the resulting matrix C.\n",
        "\n",
        "  Hint:\n",
        "  - If A is an (m x n) matrix, B should be (n x p) for the multiplication\n",
        "    to work. Then the result C will be (m x p).\n",
        "\n",
        "  Your code goes here:\n",
        "  \"\"\"\n",
        "  # Make sure the numver of columns of A matches rows of B\n",
        "  assert len(mat_a[0]) == len(mat_b), \"Dimensions do not match!\"\n",
        "\n",
        "  # Initialise matrix C with zeros\n",
        "  matrix_c = [[0 for _ in range(len(mat_b[0]))] for _ in range(len(mat_a))]\n",
        "\n",
        "  # Perform matrix multiplication\n",
        "  for i in range(len(mat_a)):\n",
        "    for j in range(len(mat_b[0])):\n",
        "      for k in range(len(mat_b)):\n",
        "        matrix_c[i][j] += mat_a[i][k] * mat_b[k][j]\n",
        "\n",
        "  return matrix_c"
      ]
    },
    {
      "cell_type": "code",
      "execution_count": 2,
      "metadata": {},
      "outputs": [
        {
          "name": "stdout",
          "output_type": "stream",
          "text": [
            "[[19, 22], [43, 50]]\n",
            "[[7, 10, 13], [19, 26, 33], [31, 42, 53]]\n"
          ]
        }
      ],
      "source": [
        "# Testing the function\n",
        "a = [[1, 2], [3, 4]]\n",
        "b = [[5, 6], [7, 8]]\n",
        "result1 = matrix_matrix_multiplication(a, b)\n",
        "print(result1)\n",
        "\n",
        "c = [[1, 2], [3, 4], [5, 6]]\n",
        "d = [[5, 6, 7], [1, 2, 3]]\n",
        "result2 = matrix_matrix_multiplication(c, d)\n",
        "print(result2)"
      ]
    },
    {
      "cell_type": "markdown",
      "metadata": {
        "id": "YpAJ_us1x2Hk"
      },
      "source": [
        "# **Matrix times Vector**\n",
        "Write a Python function that takes the dot product of a matrix and a vector. return -1 if the matrix could not be dotted with the vector\n",
        "\n",
        "Example:\n",
        "\n",
        "Input\n",
        "a = [ [ 1, 2 ] , [ 2, 4 ] ]\n",
        "b = [ 1, 2 ]\n",
        "\n",
        "Output\n",
        "[5, 10 ]"
      ]
    },
    {
      "cell_type": "code",
      "execution_count": 3,
      "metadata": {
        "id": "Y0jxQR1NxvND"
      },
      "outputs": [],
      "source": [
        "a = [[1, 0], [0, 1]]\n",
        "b = [1, 2]\n",
        "def matrix_dot_vector(a, b):\n",
        "  \"\"\"\n",
        "  Input: a: List of lists, b: List\n",
        "  Output: List\n",
        "  \"\"\"\n",
        "  # Make sure the dimensions are correct\n",
        "  if len(a[0]) != len(b):\n",
        "    return -1\n",
        "\n",
        "  # Calculate value\n",
        "  matrix_dot_vector = [0 for _ in range(len(a))]\n",
        "\n",
        "  for i in range(len(a)):\n",
        "    for j in range(len(b)):\n",
        "      matrix_dot_vector[i] += a[i][j] * b[j]\n",
        "\n",
        "  return matrix_dot_vector"
      ]
    },
    {
      "cell_type": "code",
      "execution_count": 4,
      "metadata": {
        "colab": {
          "base_uri": "https://localhost:8080/"
        },
        "collapsed": true,
        "id": "SCY97Hh-0yBH",
        "outputId": "927cbbd4-ecaa-454f-9291-af5cb9c7415b"
      },
      "outputs": [
        {
          "name": "stdout",
          "output_type": "stream",
          "text": [
            "Test case 1:\n",
            "Input -> Matrix: [[1, 0], [0, 1]], Vector: [1, 2]\n",
            "Expected Output: [1, 2], \n",
            "Actual Output: [1, 2] \n",
            "\n",
            "Test case 2:\n",
            "Input -> Matrix: [[5, 6, 7], [8, 9, 10]], Vector: [1, 1, 1]\n",
            "Expected Output: [18, 27], \n",
            "Actual Output: [18, 27] \n",
            "\n",
            "Test case 3:\n",
            "Input -> Matrix: [[2, 4, 6], [1, 3, 5], [7, 8, 9]], Vector: [0, 0, 0]\n",
            "Expected Output: [0, 0, 0], \n",
            "Actual Output: [0, 0, 0] \n",
            "\n",
            "Test case 4:\n",
            "Input -> Matrix: [[1, 2], [3, 4], [5, 6]], Vector: [1, 1]\n",
            "Expected Output: [3, 7, 11], \n",
            "Actual Output: [3, 7, 11] \n",
            "\n",
            "Test case 5:\n",
            "Input -> Matrix: [[1, 2, 3], [4, 5, 6]], Vector: [7, 8]\n",
            "Expected Output: -1, \n",
            "Actual Output: -1 \n",
            "\n",
            "Test case 6:\n",
            "Input -> Matrix: [[1]], Vector: [1]\n",
            "Expected Output: [1], \n",
            "Actual Output: [1] \n",
            "\n",
            "Test case 7:\n",
            "Input -> Matrix: [[2, 4, 6], [8, 10, 12]], Vector: [1, 2, 3]\n",
            "Expected Output: [28, 64], \n",
            "Actual Output: [28, 64] \n",
            "\n",
            "Test case 8:\n",
            "Input -> Matrix: [[0, 0], [0, 0]], Vector: [1, 1]\n",
            "Expected Output: [0, 0], \n",
            "Actual Output: [0, 0] \n",
            "\n",
            "Test case 9:\n",
            "Input -> Matrix: [[3, 6, 9], [2, 4, 8], [1, 5, 7]], Vector: [2, 3, 1]\n",
            "Expected Output: [33, 24, 24], \n",
            "Actual Output: [33, 24, 24] \n",
            "\n",
            "Test case 10:\n",
            "Input -> Matrix: [[7, 8], [9, 10], [11, 12]], Vector: [1, 2]\n",
            "Expected Output: [23, 29, 35], \n",
            "Actual Output: [23, 29, 35] \n",
            "\n",
            "Test Passed ✅\n",
            "\n"
          ]
        }
      ],
      "source": [
        "test_cases = [\n",
        "    ([[1, 0], [0, 1]], [1, 2], [1, 2]),\n",
        "    ([[5, 6, 7], [8, 9, 10]], [1, 1, 1], [18, 27]),\n",
        "    ([[2, 4, 6], [1, 3, 5], [7, 8, 9]], [0, 0, 0], [0, 0, 0]),\n",
        "    ([[1, 2], [3, 4], [5, 6]], [1, 1], [3, 7, 11]),\n",
        "    ([[1, 2, 3], [4, 5, 6]], [7, 8], -1),\n",
        "    ([[1]], [1], [1]),\n",
        "    ([[2, 4, 6], [8, 10, 12]], [1, 2, 3], [28, 64]),\n",
        "    ([[0, 0], [0, 0]], [1, 1], [0, 0]),\n",
        "    ([[3, 6, 9], [2, 4, 8], [1, 5, 7]], [2, 3, 1], [33, 24, 24]),\n",
        "    ([[7, 8], [9, 10], [11, 12]], [1, 2], [23, 29, 35])\n",
        "]\n",
        "fail_count = 0\n",
        "# Test the function and check results\n",
        "for i, (matrix, vector, expected) in enumerate(test_cases, start=1):\n",
        "    result = matrix_dot_vector(matrix, vector)\n",
        "    print(f\"Test case {i}:\")\n",
        "    print(f\"Input -> Matrix: {matrix}, Vector: {vector}\")\n",
        "    print(f\"Expected Output: {expected}, \\nActual Output: {result} \\n\")\n",
        "    if result != expected:\n",
        "      fail_count += 1\n",
        "\n",
        "if fail_count == 0:\n",
        "  print(\"Test Passed ✅\\n\")\n",
        "else:\n",
        "  print(\"Test Failed ❌\\n\")"
      ]
    },
    {
      "cell_type": "markdown",
      "metadata": {
        "id": "NYKkueRVqCea"
      },
      "source": [
        "# **K-Means**\n",
        "K-Means is a clustering algorithm that tries to partition a dataset into a specified number of clusters k. It starts by picking k initial cluster centers (called centroids) and then iteratively performs two steps:\n",
        "\n",
        "1. **Assignment step**: Each data point is assigned to the cluster whose centroid is nearest to it (usually measured by Euclidean distance).\n",
        "2. **Update step**: Each centroid is recalculated as the average (mean) of the points currently assigned to it.\n"
      ]
    },
    {
      "cell_type": "code",
      "execution_count": null,
      "metadata": {
        "id": "5j1LhjFC-IvE"
      },
      "outputs": [],
      "source": [
        "import numpy as np\n",
        "import matplotlib.pyplot as plt"
      ]
    },
    {
      "cell_type": "code",
      "execution_count": null,
      "metadata": {
        "id": "-ntH1o-Qo5Tk"
      },
      "outputs": [],
      "source": [
        "def k_means(data, k, max_iterations=100):\n",
        "    \"\"\"\n",
        "    Parameters:\n",
        "    -----------\n",
        "    data : list of lists or 2D NumPy array\n",
        "        The dataset you want to cluster. Each element should be an n-dimensional data point.\n",
        "    k : int\n",
        "        The number of clusters to form.\n",
        "    max_iterations : int, optional\n",
        "        The maximum number of iterations the algorithm will run before stopping.\n",
        "\n",
        "    Returns:\n",
        "    --------\n",
        "    centroids : list of lists or 2D NumPy array\n",
        "        The final centroid positions after clustering.\n",
        "    labels : list or 1D NumPy array\n",
        "        The cluster index assigned to each data point.\n",
        "    \"\"\"\n",
        "\n",
        "    return centroids, labels"
      ]
    },
    {
      "cell_type": "code",
      "execution_count": null,
      "metadata": {
        "id": "D6wPHgvn9nEY"
      },
      "outputs": [],
      "source": [
        "data_points = np.array([\n",
        "    [1, 2],   [2, 1],   [1.5, 1.8], [2.5, 2],   [3, 2.2],\n",
        "    [8, 8],   [8, 9],   [7.5, 8],   [7.2, 8.8], [8, 7.5],\n",
        "    [3, 6],   [3.5, 7], [4, 6.5],   [2.5, 7.5], [4, 7.2]\n",
        "])"
      ]
    },
    {
      "cell_type": "code",
      "execution_count": null,
      "metadata": {
        "id": "PXPi-SIO-dnT"
      },
      "outputs": [],
      "source": [
        "centroids, labels = k_means()"
      ]
    },
    {
      "cell_type": "markdown",
      "metadata": {
        "id": "GQh-DPzkAdaN"
      },
      "source": [
        "# **Gaussian Elimination - Take home?**\n",
        "Implement the function `gaussian_elimination(A, b)` that reads a matrix *A* (as a list of lists) and a vector* b* (as a list), and returns the solution vector *x* (as a list). Test it with at least one example to verify that your function works correctly.\n"
      ]
    },
    {
      "cell_type": "code",
      "execution_count": null,
      "metadata": {
        "id": "InP2PWN6P3Dp"
      },
      "outputs": [],
      "source": [
        "def gaussian_elimination(A, b):\n",
        "    \"\"\"\n",
        "    Solve the system A x = b using Gaussian Elimination.\n",
        "\n",
        "    Parameters:\n",
        "    -----------\n",
        "    A : list of lists\n",
        "        The coefficient matrix of size n x n.\n",
        "    b : list\n",
        "        The constant terms vector of size n.\n",
        "\n",
        "    Returns:\n",
        "    --------\n",
        "    x : list\n",
        "        The solution vector of size n.\n",
        "    \"\"\"\n",
        "    # TODO: Implement forward elimination\n",
        "    # TODO: Implement back-substitution\n",
        "    # TODO: Return the solution vector x\n",
        "    pass\n",
        "    return solution\n"
      ]
    },
    {
      "cell_type": "markdown",
      "metadata": {
        "id": "77JPK6Y1oZof"
      },
      "source": [
        "# **Dense Based Spatial Clustering - Take home**\n",
        "1. Generate a synthetic 2D dataset or load a dataset of your choice.\n",
        "2. Implement the DBSC clustering algorithm from scratch:\n",
        "   - A function to find the neighbors of a point based on a distance threshold (eps).\n",
        "   - A method to expand clusters by checking each point’s neighbors recursively.\n",
        "3. Use your implementation to cluster the data.\n",
        "4. Visualize the final clusters using a scatter plot, distinguishing each cluster by a different color.\n",
        "5. Identify and mark outliers in the plot (typically labeled with a unique label, like -1).\n",
        "6. Analyze the result and describe any interesting patterns or observations."
      ]
    },
    {
      "cell_type": "code",
      "execution_count": null,
      "metadata": {
        "id": "-AvwmbvFoXrd"
      },
      "outputs": [],
      "source": [
        "import numpy as np\n",
        "import matplotlib.pyplot as plt\n",
        "\n",
        "def generate_data(n_samples=200, random_state=42):\n",
        "    \"\"\"\n",
        "    Generate or load your 2D data here.\n",
        "    Return: data (numpy array of shape (n_samples, 2))\n",
        "    \"\"\"\n",
        "    pass\n",
        "\n",
        "def dbsc(data, eps, min_samples):\n",
        "    \"\"\"\n",
        "    Implement the DBSC algorithm from scratch.\n",
        "\n",
        "    Parameters:\n",
        "    - data: numpy array of shape (n_samples, n_features)\n",
        "    - eps: maximum distance for considering a neighbor\n",
        "    - min_samples: minimum number of points to form a dense region\n",
        "\n",
        "    Returns:\n",
        "    - labels: array of shape (n_samples,) with the cluster labels for each point\n",
        "    \"\"\"\n",
        "    pass\n",
        "\n",
        "def main():\n",
        "    # 1. Generate or load data\n",
        "    data = generate_data()\n",
        "\n",
        "    # 2. DBSC parameters\n",
        "    eps = 0.5\n",
        "    min_samples = 5\n",
        "\n",
        "    # 3. Perform DBSC clustering\n",
        "    labels = dbsc(data, eps, min_samples)\n",
        "\n",
        "    # 4. Visualization\n",
        "    # Plot the resulting clusters, highlight outliers\n",
        "    pass\n"
      ]
    }
  ],
  "metadata": {
    "colab": {
      "collapsed_sections": [
        "mQ1SLWKG__38",
        "YpAJ_us1x2Hk",
        "GQh-DPzkAdaN"
      ],
      "provenance": []
    },
    "kernelspec": {
      "display_name": ".venv",
      "language": "python",
      "name": "python3"
    },
    "language_info": {
      "codemirror_mode": {
        "name": "ipython",
        "version": 3
      },
      "file_extension": ".py",
      "mimetype": "text/x-python",
      "name": "python",
      "nbconvert_exporter": "python",
      "pygments_lexer": "ipython3",
      "version": "3.11.11"
    }
  },
  "nbformat": 4,
  "nbformat_minor": 0
}
