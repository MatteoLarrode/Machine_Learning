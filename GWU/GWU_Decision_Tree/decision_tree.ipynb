{
 "cells": [
  {
   "attachments": {},
   "cell_type": "markdown",
   "metadata": {},
   "source": [
    "# Decision Tree\n",
    "\n",
    "### Entropy & Information Gain\n"
   ]
  },
  {
   "cell_type": "code",
   "execution_count": 1,
   "metadata": {},
   "outputs": [],
   "source": [
    "# import libraries\n",
    "import pandas as pd\n",
    "import matplotlib.pyplot as plt\n",
    "import seaborn as sns"
   ]
  },
  {
   "cell_type": "code",
   "execution_count": 54,
   "metadata": {},
   "outputs": [
    {
     "name": "stdout",
     "output_type": "stream",
     "text": [
      "(14, 5)\n",
      "    Outlook Temperature Humidity  Windy Play\n",
      "0     sunny         hot     high  False   no\n",
      "1     sunny         hot     high   True   no\n",
      "2  overcast         hot     high  False  yes\n",
      "3     rainy        mild     high  False  yes\n",
      "4     rainy        cool   normal  False  yes\n"
     ]
    }
   ],
   "source": [
    "tennis_ex = pd.read_csv(\"data/tennis.csv\")\n",
    "\n",
    "#relabel its columns\n",
    "tennis_ex.columns = ['Outlook', 'Temperature', 'Humidity', 'Windy', 'Play']\n",
    "\n",
    "print(tennis_ex.shape)\n",
    "print(tennis_ex.head())"
   ]
  },
  {
   "attachments": {},
   "cell_type": "markdown",
   "metadata": {},
   "source": [
    "#### Entropy\n",
    "\n",
    "We need to build a function calculating entropy at a specific node, based on the mathematical formula. As input, the function will take the list of the values taken by the variable of interest in the node.\n",
    "\n",
    "For example, if the node contains 4 'yes' and 2 'no', the list could be [yes, yes, no, yes, no, yes]."
   ]
  },
  {
   "cell_type": "code",
   "execution_count": 55,
   "metadata": {},
   "outputs": [],
   "source": [
    "import math\n",
    "\n",
    "def calc_entropy(Node):\n",
    "    #size of the node\n",
    "    size = len(Node)\n",
    "    #number of occurences: dictionary\n",
    "    counts = {}\n",
    "    for label in Node:\n",
    "        if label in counts:\n",
    "            counts[label] += 1\n",
    "        else:\n",
    "            counts[label] = 1\n",
    "    #calculate entropy\n",
    "    entropy = 0\n",
    "    for n in counts.values():\n",
    "        pi = n / size\n",
    "        entropy -= pi * math.log2(pi)\n",
    "    return entropy\n",
    "    \n"
   ]
  },
  {
   "attachments": {},
   "cell_type": "markdown",
   "metadata": {},
   "source": [
    "#### Information Gain & Splits\n",
    "For each feature of the dataset, we will now calculate the information gain, based on the entropy function, if it were used for a split.\n",
    "\n",
    "Information gain is calculated like this: **IG = Entropy(parent) – Average Entropy(children)**\n",
    "\n",
    "We create a function that takes three arguments: \n",
    "\n",
    "- df, which is a pandas DataFrame\n",
    "- feature, which is the name of the variable that we want to use for splitting the data\n",
    "- output, which is the name of the output variable, here it will be \"Play\"\n",
    "\n",
    "The function then calculates information gain using the `calc_entropy` function created earlier."
   ]
  },
  {
   "cell_type": "code",
   "execution_count": 57,
   "metadata": {},
   "outputs": [],
   "source": [
    "def calc_IG(df, feature, output):\n",
    "    #size of the parent node\n",
    "    size = len(df)\n",
    "\n",
    "    #calculate parent entropy & initiate child_entropies\n",
    "    parent_entropy = calc_entropy(list(df[output]))\n",
    "    child_entropies = []\n",
    "\n",
    "    #counts of each value of the feature\n",
    "    var_counts = df[feature].value_counts()\n",
    "\n",
    "    #for each value of the feature, calculates entropy of the child node\n",
    "    for value, count in var_counts.items():\n",
    "        #subset dataframe to only include instances with that value \n",
    "        child_node = df[df[feature] == value]\n",
    "        #calculate entropy of that node\n",
    "        child_entropy = calc_entropy(list(child_node[output]))\n",
    "\n",
    "        #append WEIGHTED child entropy \n",
    "        child_entropies.append(child_entropy * count / size)\n",
    "\n",
    "    #information gain\n",
    "    info_gain = parent_entropy - sum(child_entropies)\n",
    "    return info_gain\n",
    "    \n"
   ]
  },
  {
   "attachments": {},
   "cell_type": "markdown",
   "metadata": {},
   "source": [
    "Now we can calculate the information gain of a split by each of the variables. "
   ]
  },
  {
   "cell_type": "code",
   "execution_count": 59,
   "metadata": {},
   "outputs": [
    {
     "name": "stdout",
     "output_type": "stream",
     "text": [
      "Information gain of splitting by Outlook is: 0.24674981977443922\n",
      "Information gain of splitting by Temperature is: 0.02922256565895487\n",
      "Information gain of splitting by Humidity is: 0.15183550136234159\n",
      "Information gain of splitting by Windy is: 0.04812703040826949\n"
     ]
    }
   ],
   "source": [
    "for feature in tennis_ex.columns:\n",
    "    if (feature != \"Play\"):\n",
    "        print(f\"Information gain of splitting by {feature} is: {calc_IG(tennis_ex, feature, 'Play')}\")"
   ]
  },
  {
   "attachments": {},
   "cell_type": "markdown",
   "metadata": {},
   "source": [
    "4. The feature with the highest information gain is \"Outlook\". Let's split the dataframe based on this feature."
   ]
  },
  {
   "cell_type": "code",
   "execution_count": 60,
   "metadata": {},
   "outputs": [
    {
     "name": "stdout",
     "output_type": "stream",
     "text": [
      "{'overcast', 'sunny', 'rainy'}\n"
     ]
    }
   ],
   "source": [
    "print(set(tennis_ex[\"Outlook\"]))"
   ]
  },
  {
   "cell_type": "code",
   "execution_count": 61,
   "metadata": {},
   "outputs": [],
   "source": [
    "child_df_1 = tennis_ex[tennis_ex[\"Outlook\"] == \"overcast\"]\n",
    "child_df_2 = tennis_ex[tennis_ex[\"Outlook\"] == \"sunny\"]\n",
    "child_df_3 = tennis_ex[tennis_ex[\"Outlook\"] == \"rainy\"]"
   ]
  },
  {
   "attachments": {},
   "cell_type": "markdown",
   "metadata": {},
   "source": [
    "5. Finally, here are some statistics for each child note that resulted from the split."
   ]
  },
  {
   "cell_type": "code",
   "execution_count": 62,
   "metadata": {},
   "outputs": [],
   "source": [
    "def summary_stats(df):\n",
    "    # Get the number of samples\n",
    "    num_samples = len(df)\n",
    "\n",
    "    print(\"Number of samples:\", num_samples)\n",
    "\n",
    "    # Get the distribution of \"Yes\" and \"No\" for the Play variable, set as 0 if none\n",
    "    play_counts = df['Play'].value_counts()\n",
    "    yes_count = play_counts.get('yes', 0)\n",
    "    no_count = play_counts.get('no', 0)\n",
    "\n",
    "    print(f\"Distribution of 'yes' for the 'Play' variable: {yes_count} / {num_samples} =\", yes_count / num_samples)\n",
    "    print(f\"Distribution of 'no' for the 'Play' variable: {no_count} / {num_samples} =\", no_count / num_samples)\n",
    "\n",
    "    #Get the entropy\n",
    "    print(f\"Entropy of the node: {calc_entropy(list(df['Play']))}\")\n",
    "\n",
    "    return \"Success\"\n"
   ]
  },
  {
   "cell_type": "code",
   "execution_count": 92,
   "metadata": {},
   "outputs": [
    {
     "name": "stdout",
     "output_type": "stream",
     "text": [
      "SUMMARY STATS: OVERCAST\n",
      "Number of samples: 4\n",
      "Distribution of 'yes' for the 'Play' variable: 4 / 4 = 1.0\n",
      "Distribution of 'no' for the 'Play' variable: 0 / 4 = 0.0\n",
      "Entropy of the node: 0.0\n",
      "Success\n",
      "\n",
      "SUMMARY STATS: SUNNY\n",
      "Number of samples: 5\n",
      "Distribution of 'yes' for the 'Play' variable: 2 / 5 = 0.4\n",
      "Distribution of 'no' for the 'Play' variable: 3 / 5 = 0.6\n",
      "Entropy of the node: 0.9709505944546686\n",
      "Success\n",
      "\n",
      "SUMMARY STATS: RAINY\n",
      "Number of samples: 5\n",
      "Distribution of 'yes' for the 'Play' variable: 3 / 5 = 0.6\n",
      "Distribution of 'no' for the 'Play' variable: 2 / 5 = 0.4\n",
      "Entropy of the node: 0.9709505944546686\n",
      "Success\n"
     ]
    }
   ],
   "source": [
    "print(\"SUMMARY STATS: OVERCAST\")\n",
    "print(summary_stats(child_df_1))\n",
    "\n",
    "print(\"\\nSUMMARY STATS: SUNNY\")\n",
    "print(summary_stats(child_df_2))\n",
    "\n",
    "print(\"\\nSUMMARY STATS: RAINY\")\n",
    "print(summary_stats(child_df_3))"
   ]
  },
  {
   "attachments": {},
   "cell_type": "markdown",
   "metadata": {},
   "source": [
    "### Decision Tree Classifier"
   ]
  },
  {
   "cell_type": "code",
   "execution_count": 64,
   "metadata": {},
   "outputs": [],
   "source": [
    "#import libraries\n",
    "from sklearn.model_selection import train_test_split\n",
    "from sklearn.tree import DecisionTreeClassifier\n",
    "from sklearn.metrics import accuracy_score\n",
    "from sklearn.metrics import classification_report\n",
    "from sklearn.metrics import confusion_matrix"
   ]
  },
  {
   "cell_type": "code",
   "execution_count": 65,
   "metadata": {},
   "outputs": [
    {
     "name": "stdout",
     "output_type": "stream",
     "text": [
      "Number of Rows:  1372\n",
      "Number of Columns:  5 \n",
      "\n",
      "Head of Data:\n",
      "     Feature1  Feature2  Feature3  Feature4  Target\n",
      "0   3.62160    8.6661   -2.8073  -0.44699       0\n",
      "1   4.54590    8.1674   -2.4586  -1.46210       0\n",
      "2   3.86600   -2.6383    1.9242   0.10645       0\n",
      "3   3.45660    9.5228   -4.0112  -3.59440       0\n",
      "4   0.32924   -4.4552    4.5718  -0.98880       0 \n",
      "\n"
     ]
    }
   ],
   "source": [
    "#import data \n",
    "banknote_df = pd.read_csv(\"data/data_banknote_authentication.csv\", header= None)\n",
    "\n",
    "banknote_df.columns = [\"Feature1\", \"Feature2\", \"Feature3\", \"Feature4\", \"Target\"]\n",
    "\n",
    "#some exploration:\n",
    "print('Number of Rows: ', banknote_df.shape[0])\n",
    "print('Number of Columns: ', banknote_df.shape[1], '\\n')\n",
    "print('Head of Data:\\n ', banknote_df.head(), '\\n')"
   ]
  },
  {
   "attachments": {},
   "cell_type": "markdown",
   "metadata": {},
   "source": [
    "Before training a model we need to make sure our data is clean. Let’s check for missing and duplicated values."
   ]
  },
  {
   "cell_type": "code",
   "execution_count": 66,
   "metadata": {},
   "outputs": [
    {
     "name": "stdout",
     "output_type": "stream",
     "text": [
      "Null Values in Dataset: \n",
      "Feature1    0\n",
      "Feature2    0\n",
      "Feature3    0\n",
      "Feature4    0\n",
      "Target      0\n",
      "dtype: int64\n",
      "\n",
      "Duplicated Values in Dataset: \n",
      "24\n"
     ]
    }
   ],
   "source": [
    "print(f\"Null Values in Dataset: \\n{banknote_df.isnull().sum()}\")\n",
    "print(f\"\\nDuplicated Values in Dataset: \\n{banknote_df.duplicated().sum()}\")"
   ]
  },
  {
   "attachments": {},
   "cell_type": "markdown",
   "metadata": {},
   "source": [
    " A duplicated datapoint will have double the weight of a normal datapoint, and will therefore affect the resulting decision tree. The decision to remove them or not depends on the goals and context. Indeed, if those 24 duplicates arose naturally, we should keep them if we are interested in maximizing the number of correctly predicted categories. We lack the information on the context of their apparition, so we will assume that they are legitimate, and therefore give us information about the relative occurrences of datapoints. This justifies why I decided to keep those duplicated values in the dataset."
   ]
  },
  {
   "attachments": {},
   "cell_type": "markdown",
   "metadata": {},
   "source": [
    "We can now randomly split the banknote data into train (with 70% of samples) and test (with 30% of samples) datasets. It is important to first separate input and output vectors. "
   ]
  },
  {
   "cell_type": "code",
   "execution_count": 67,
   "metadata": {},
   "outputs": [],
   "source": [
    "# Separate the target variable & features\n",
    "y_banknote = banknote_df.Target\n",
    "X_banknote = banknote_df.drop('Target',axis=1)\n",
    "\n",
    "# split the dataset into train and test -> random_state for reproducibility\n",
    "X_train_banknote, X_test_banknote, y_train_banknote, y_test_banknote = train_test_split(X_banknote, y_banknote, test_size=0.3, random_state=5)\n"
   ]
  },
  {
   "attachments": {},
   "cell_type": "markdown",
   "metadata": {},
   "source": [
    "Let's have a look at the shape of those new datasets"
   ]
  },
  {
   "cell_type": "code",
   "execution_count": 68,
   "metadata": {},
   "outputs": [
    {
     "name": "stdout",
     "output_type": "stream",
     "text": [
      "Shape of original dataset : (1372, 5)\n",
      "Shape of input - training set (960, 4)\n",
      "Shape of output - training set (960,)\n",
      "Shape of input - testing set (412, 4)\n",
      "Shape of output - testing set (412,)\n"
     ]
    }
   ],
   "source": [
    "print(\"Shape of original dataset :\", banknote_df.shape)\n",
    "print(\"Shape of input - training set\", X_train_banknote.shape)\n",
    "print(\"Shape of output - training set\", y_train_banknote.shape)\n",
    "print(\"Shape of input - testing set\", X_test_banknote.shape)\n",
    "print(\"Shape of output - testing set\", y_test_banknote.shape)"
   ]
  },
  {
   "attachments": {},
   "cell_type": "markdown",
   "metadata": {},
   "source": [
    "That looks good! Now, let's create a decision tree based on the training data. When building a decision tree, the Gini index and entropy are two common measures used to determine the quality of a split. While both are good measures for decision tree splitting, I chose to build this decision tree using the Gini Index because it is often preferred over entropy when dealing with continuous data."
   ]
  },
  {
   "cell_type": "code",
   "execution_count": 69,
   "metadata": {},
   "outputs": [
    {
     "data": {
      "text/html": [
       "<style>#sk-container-id-3 {color: black;background-color: white;}#sk-container-id-3 pre{padding: 0;}#sk-container-id-3 div.sk-toggleable {background-color: white;}#sk-container-id-3 label.sk-toggleable__label {cursor: pointer;display: block;width: 100%;margin-bottom: 0;padding: 0.3em;box-sizing: border-box;text-align: center;}#sk-container-id-3 label.sk-toggleable__label-arrow:before {content: \"▸\";float: left;margin-right: 0.25em;color: #696969;}#sk-container-id-3 label.sk-toggleable__label-arrow:hover:before {color: black;}#sk-container-id-3 div.sk-estimator:hover label.sk-toggleable__label-arrow:before {color: black;}#sk-container-id-3 div.sk-toggleable__content {max-height: 0;max-width: 0;overflow: hidden;text-align: left;background-color: #f0f8ff;}#sk-container-id-3 div.sk-toggleable__content pre {margin: 0.2em;color: black;border-radius: 0.25em;background-color: #f0f8ff;}#sk-container-id-3 input.sk-toggleable__control:checked~div.sk-toggleable__content {max-height: 200px;max-width: 100%;overflow: auto;}#sk-container-id-3 input.sk-toggleable__control:checked~label.sk-toggleable__label-arrow:before {content: \"▾\";}#sk-container-id-3 div.sk-estimator input.sk-toggleable__control:checked~label.sk-toggleable__label {background-color: #d4ebff;}#sk-container-id-3 div.sk-label input.sk-toggleable__control:checked~label.sk-toggleable__label {background-color: #d4ebff;}#sk-container-id-3 input.sk-hidden--visually {border: 0;clip: rect(1px 1px 1px 1px);clip: rect(1px, 1px, 1px, 1px);height: 1px;margin: -1px;overflow: hidden;padding: 0;position: absolute;width: 1px;}#sk-container-id-3 div.sk-estimator {font-family: monospace;background-color: #f0f8ff;border: 1px dotted black;border-radius: 0.25em;box-sizing: border-box;margin-bottom: 0.5em;}#sk-container-id-3 div.sk-estimator:hover {background-color: #d4ebff;}#sk-container-id-3 div.sk-parallel-item::after {content: \"\";width: 100%;border-bottom: 1px solid gray;flex-grow: 1;}#sk-container-id-3 div.sk-label:hover label.sk-toggleable__label {background-color: #d4ebff;}#sk-container-id-3 div.sk-serial::before {content: \"\";position: absolute;border-left: 1px solid gray;box-sizing: border-box;top: 0;bottom: 0;left: 50%;z-index: 0;}#sk-container-id-3 div.sk-serial {display: flex;flex-direction: column;align-items: center;background-color: white;padding-right: 0.2em;padding-left: 0.2em;position: relative;}#sk-container-id-3 div.sk-item {position: relative;z-index: 1;}#sk-container-id-3 div.sk-parallel {display: flex;align-items: stretch;justify-content: center;background-color: white;position: relative;}#sk-container-id-3 div.sk-item::before, #sk-container-id-3 div.sk-parallel-item::before {content: \"\";position: absolute;border-left: 1px solid gray;box-sizing: border-box;top: 0;bottom: 0;left: 50%;z-index: -1;}#sk-container-id-3 div.sk-parallel-item {display: flex;flex-direction: column;z-index: 1;position: relative;background-color: white;}#sk-container-id-3 div.sk-parallel-item:first-child::after {align-self: flex-end;width: 50%;}#sk-container-id-3 div.sk-parallel-item:last-child::after {align-self: flex-start;width: 50%;}#sk-container-id-3 div.sk-parallel-item:only-child::after {width: 0;}#sk-container-id-3 div.sk-dashed-wrapped {border: 1px dashed gray;margin: 0 0.4em 0.5em 0.4em;box-sizing: border-box;padding-bottom: 0.4em;background-color: white;}#sk-container-id-3 div.sk-label label {font-family: monospace;font-weight: bold;display: inline-block;line-height: 1.2em;}#sk-container-id-3 div.sk-label-container {text-align: center;}#sk-container-id-3 div.sk-container {/* jupyter's `normalize.less` sets `[hidden] { display: none; }` but bootstrap.min.css set `[hidden] { display: none !important; }` so we also need the `!important` here to be able to override the default hidden behavior on the sphinx rendered scikit-learn.org. See: https://github.com/scikit-learn/scikit-learn/issues/21755 */display: inline-block !important;position: relative;}#sk-container-id-3 div.sk-text-repr-fallback {display: none;}</style><div id=\"sk-container-id-3\" class=\"sk-top-container\"><div class=\"sk-text-repr-fallback\"><pre>DecisionTreeClassifier(max_depth=3, min_samples_leaf=5)</pre><b>In a Jupyter environment, please rerun this cell to show the HTML representation or trust the notebook. <br />On GitHub, the HTML representation is unable to render, please try loading this page with nbviewer.org.</b></div><div class=\"sk-container\" hidden><div class=\"sk-item\"><div class=\"sk-estimator sk-toggleable\"><input class=\"sk-toggleable__control sk-hidden--visually\" id=\"sk-estimator-id-3\" type=\"checkbox\" checked><label for=\"sk-estimator-id-3\" class=\"sk-toggleable__label sk-toggleable__label-arrow\">DecisionTreeClassifier</label><div class=\"sk-toggleable__content\"><pre>DecisionTreeClassifier(max_depth=3, min_samples_leaf=5)</pre></div></div></div></div></div>"
      ],
      "text/plain": [
       "DecisionTreeClassifier(max_depth=3, min_samples_leaf=5)"
      ]
     },
     "execution_count": 69,
     "metadata": {},
     "output_type": "execute_result"
    }
   ],
   "source": [
    "# creating the classifier object\n",
    "clf_gini = DecisionTreeClassifier(criterion=\"gini\", max_depth=3, min_samples_leaf=5)\n",
    "\n",
    "# performing training\n",
    "clf_gini.fit(X_train_banknote, y_train_banknote)"
   ]
  },
  {
   "attachments": {},
   "cell_type": "markdown",
   "metadata": {},
   "source": [
    "Now that the decision tree classifier has been created and trained, we can use it to make predictions, analyze its quality on the test data, and visualize the corresponding confusion matrix."
   ]
  },
  {
   "cell_type": "code",
   "execution_count": 70,
   "metadata": {},
   "outputs": [],
   "source": [
    "# predicton on test using gini\n",
    "y_pred_gini = clf_gini.predict(X_test_banknote)"
   ]
  },
  {
   "cell_type": "code",
   "execution_count": 71,
   "metadata": {},
   "outputs": [
    {
     "name": "stdout",
     "output_type": "stream",
     "text": [
      "Classification Report: \n",
      "              precision    recall  f1-score   support\n",
      "\n",
      "           0       0.92      0.94      0.93       222\n",
      "           1       0.93      0.91      0.92       190\n",
      "\n",
      "    accuracy                           0.92       412\n",
      "   macro avg       0.92      0.92      0.92       412\n",
      "weighted avg       0.92      0.92      0.92       412\n",
      "\n",
      "Accuracy :  92.47572815533981\n"
     ]
    }
   ],
   "source": [
    "# calculate metrics gini model\n",
    "print(\"Classification Report: \")\n",
    "print(classification_report(y_test_banknote,y_pred_gini))\n",
    "print(\"Accuracy : \", accuracy_score(y_test_banknote, y_pred_gini) * 100)"
   ]
  },
  {
   "attachments": {},
   "cell_type": "markdown",
   "metadata": {},
   "source": [
    "The output from the classification_report() function provides a summary of the performance of the classifier on the test dataset. Some important metrics provided above are:\n",
    "\n",
    "- **Precision** = true positives / (true positives + false positives) -> how many of the samples the model predicted as positive are actually positive.\n",
    "- **Recall** = true positives / (true positives + false negatives) -> how many of the actual positive samples the model correctly identified as positive\n",
    "- **F1-score**: combines precision and recall to provide a balanced measure of the classifier's performance\n",
    "- **Accuracy**: proportion of correctly classified samples (true positives and true negatives) out of the total number of samples\n",
    "\n",
    "For this first model, the classifier has an accuracy of 92.5%, which means it correctly classified 92.5% of the samples in the test dataset. The precision, recall, and f1-score are all high for both classes, which suggests that the classifier is performing well for both positive and negative samples. Overall, the report indicates that the classifier is performing well on the test dataset.\n",
    "\n",
    "Let's visualise the confusion matrix to gain more insight:"
   ]
  },
  {
   "cell_type": "code",
   "execution_count": 72,
   "metadata": {},
   "outputs": [],
   "source": [
    "# confusion matrix for gini model\n",
    "conf_matrix = confusion_matrix(y_test_banknote, y_pred_gini)\n",
    "target_values = banknote_df.Target.unique()\n",
    "conf_matrix_df = pd.DataFrame(conf_matrix, index=target_values, columns=target_values)"
   ]
  },
  {
   "cell_type": "code",
   "execution_count": 73,
   "metadata": {},
   "outputs": [
    {
     "data": {
      "image/png": "[encoded data removed]",
      "text/plain": [
       "<Figure size 400x400 with 2 Axes>"
      ]
     },
     "metadata": {},
     "output_type": "display_data"
    }
   ],
   "source": [
    "#plot\n",
    "plt.figure(figsize=(4,4))\n",
    "hm = sns.heatmap(conf_matrix_df, annot=True, fmt=\".0f\", linewidths=3, square=True, cmap='Blues', color=\"#cd1076\")\n",
    "plt.ylabel('True label',fontsize=12)\n",
    "plt.xlabel('Predicted label',fontsize=12)\n",
    "plt.tight_layout()\n",
    "plt.show()"
   ]
  },
  {
   "attachments": {},
   "cell_type": "markdown",
   "metadata": {},
   "source": [
    "The confusion matrix shows that the model:\n",
    "\n",
    "- correctly classified 208 instances as negative (true negatives),\n",
    "- correctly classified 173 instances as positive (true positives),\n",
    "- incorrectly classified 17 instances as negative, when they were actually positive (false negatives),\n",
    "- incorrectly classified 14 instances as positive, when they were actually negative (false positives).\n",
    "\n",
    "Overall, the confusion matrix confirms our assessment that the model has a relatively high accuracy, as most of the instances are correctly classified. However, it also suggests that there is a higher rate of false negatives than false positives, which means that the model may be overly cautious in predicting negative instances."
   ]
  },
  {
   "attachments": {},
   "cell_type": "markdown",
   "metadata": {},
   "source": [
    "#### Modifying the predictor\n",
    "\n",
    "Decision trees are often prone to overfitting. A solution is to utilize the hyper-parameters that control the depth of the tree or limit the expansion of leaf nodes. Let's explore the consequences of doing so on the quality of our classifier. \n",
    "\n",
    "The `max_depth` hyper-paramater controls the maximum depth of the tree. If None, nodes are expanded until all leaves are pure or until all leaves contain less than min_samples_split samples. It is used to reduce the risk of overfitting because lower values prevent a model from learning relations which might be highly specific to the particular sample. \n",
    "\n",
    "Let's try to increase it:\n"
   ]
  },
  {
   "cell_type": "code",
   "execution_count": 74,
   "metadata": {},
   "outputs": [
    {
     "name": "stdout",
     "output_type": "stream",
     "text": [
      "Accuracy :  97.33009708737865\n"
     ]
    },
    {
     "data": {
      "image/png": "[encoded data removed]",
      "text/plain": [
       "<Figure size 400x400 with 2 Axes>"
      ]
     },
     "metadata": {},
     "output_type": "display_data"
    }
   ],
   "source": [
    "# creating the classifier object\n",
    "clf_gini2 = DecisionTreeClassifier(criterion=\"gini\", max_depth=10, min_samples_leaf=5)\n",
    "# performing training\n",
    "clf_gini2.fit(X_train_banknote, y_train_banknote)\n",
    "#prediction\n",
    "y_pred_gini2 = clf_gini2.predict(X_test_banknote)\n",
    "\n",
    "#accuracy\n",
    "print(\"Accuracy : \", accuracy_score(y_test_banknote, y_pred_gini2) * 100)\n",
    "\n",
    "#confusion matrix\n",
    "conf_matrix2 = confusion_matrix(y_test_banknote, y_pred_gini2)\n",
    "conf_matrix_df2 = pd.DataFrame(conf_matrix2, index=target_values, columns=target_values)\n",
    "\n",
    "#plot\n",
    "plt.figure(figsize=(4,4))\n",
    "hm = sns.heatmap(conf_matrix_df2, annot=True, fmt=\".0f\", linewidths=3, square=True, cmap='Blues', color=\"#cd1076\")\n",
    "plt.ylabel('True label',fontsize=12)\n",
    "plt.xlabel('Predicted label',fontsize=12)\n",
    "plt.tight_layout()\n",
    "plt.show()"
   ]
  },
  {
   "attachments": {},
   "cell_type": "markdown",
   "metadata": {},
   "source": [
    "Increasing the maximum depth from 3 to 10 has increased the accuracy of the model from 92.5% to 97.3%. This suggests that the first model was too simple, leading to underfitting. This new, more complex model, is able to capture more accurately the relationship between the input and output variables.\n",
    "\n",
    "Let's try to further increase the maximum depth."
   ]
  },
  {
   "cell_type": "code",
   "execution_count": 75,
   "metadata": {},
   "outputs": [
    {
     "name": "stdout",
     "output_type": "stream",
     "text": [
      "Accuracy :  97.0873786407767\n"
     ]
    },
    {
     "data": {
      "image/png": "[encoded data removed]",
      "text/plain": [
       "<Figure size 400x400 with 2 Axes>"
      ]
     },
     "metadata": {},
     "output_type": "display_data"
    }
   ],
   "source": [
    "# creating the classifier object\n",
    "clf_gini3 = DecisionTreeClassifier(criterion=\"gini\", max_depth=500, min_samples_leaf=1)\n",
    "# performing training\n",
    "clf_gini3.fit(X_train_banknote, y_train_banknote)\n",
    "#prediction\n",
    "y_pred_gini3 = clf_gini3.predict(X_test_banknote)\n",
    "\n",
    "#accuracy\n",
    "print(\"Accuracy : \", accuracy_score(y_test_banknote, y_pred_gini3) * 100)\n",
    "\n",
    "#confusion matrix\n",
    "conf_matrix3 = confusion_matrix(y_test_banknote, y_pred_gini3)\n",
    "conf_matrix_df3 = pd.DataFrame(conf_matrix3, index=target_values, columns=target_values)\n",
    "\n",
    "#plot\n",
    "plt.figure(figsize=(4,4))\n",
    "hm = sns.heatmap(conf_matrix_df3, annot=True, fmt=\".0f\", linewidths=3, square=True, cmap='Blues', color=\"#cd1076\")\n",
    "plt.ylabel('True label',fontsize=12)\n",
    "plt.xlabel('Predicted label',fontsize=12)\n",
    "plt.tight_layout()\n",
    "plt.show()"
   ]
  },
  {
   "attachments": {},
   "cell_type": "markdown",
   "metadata": {},
   "source": [
    "Increasing the maximum depth of the tree to 1,000 led to a decrease in the accuracy from the previous model. This has occured because the model contains too much complexity, resulting in a higher error rate on test data."
   ]
  },
  {
   "attachments": {},
   "cell_type": "markdown",
   "metadata": {},
   "source": [
    "The `min_samples_leaf` hyper-paramater controls the minimum number of samples (or observations) required in a leaf. Setting a higher `min_samples_leaf` value ensures that each leaf in the tree has a minimum number of samples, which helps to prevent overfitting by restricting the complexity of the tree. This can improve the model's ability to generalize to new data.\n",
    "\n",
    "However, setting `min_samples_leaf` too high can cause the model to underfit the data, leading to poor performance on both the training and testing data. Here is an example of what would happen with a very high `min_samples_leaf`, setting a maximum tree depth of 10 like in the second model:"
   ]
  },
  {
   "cell_type": "code",
   "execution_count": 76,
   "metadata": {},
   "outputs": [
    {
     "name": "stdout",
     "output_type": "stream",
     "text": [
      "Accuracy :  91.74757281553399\n"
     ]
    },
    {
     "data": {
      "image/png": "[encoded data removed]",
      "text/plain": [
       "<Figure size 400x400 with 2 Axes>"
      ]
     },
     "metadata": {},
     "output_type": "display_data"
    }
   ],
   "source": [
    "# creating the classifier object\n",
    "clf_gini4 = DecisionTreeClassifier(criterion=\"gini\", max_depth=10, min_samples_leaf=30)\n",
    "# performing training\n",
    "clf_gini4.fit(X_train_banknote, y_train_banknote)\n",
    "#prediction\n",
    "y_pred_gini4 = clf_gini4.predict(X_test_banknote)\n",
    "\n",
    "#accuracy\n",
    "print(\"Accuracy : \", accuracy_score(y_test_banknote, y_pred_gini4) * 100)\n",
    "\n",
    "#confusion matrix\n",
    "conf_matrix4 = confusion_matrix(y_test_banknote, y_pred_gini4)\n",
    "conf_matrix_df4 = pd.DataFrame(conf_matrix4, index=target_values, columns=target_values)\n",
    "\n",
    "#plot\n",
    "plt.figure(figsize=(4,4))\n",
    "hm = sns.heatmap(conf_matrix_df4, annot=True, fmt=\".0f\", linewidths=3, square=True, cmap='Blues', color=\"#cd1076\")\n",
    "plt.ylabel('True label',fontsize=12)\n",
    "plt.xlabel('Predicted label',fontsize=12)\n",
    "plt.tight_layout()\n",
    "plt.show()"
   ]
  },
  {
   "attachments": {},
   "cell_type": "markdown",
   "metadata": {},
   "source": [
    "Keeping the maximum depth constant, setting a much higher minimum number of samples (or observations) required in a leaf led to a sharp decrease in the accuracy and overall performance of the model. \n",
    "\n",
    "All these examples illustrate the challenge and importance of adjusting hyper-parameters correctly to strike the best balance possible between overfitting and underfitting. Every choice should be justified, and made with transparency. "
   ]
  }
 ],
 "metadata": {
  "kernelspec": {
   "display_name": "Python 3",
   "language": "python",
   "name": "python3"
  },
  "language_info": {
   "codemirror_mode": {
    "name": "ipython",
    "version": 3
   },
   "file_extension": ".py",
   "mimetype": "text/x-python",
   "name": "python",
   "nbconvert_exporter": "python",
   "pygments_lexer": "ipython3",
   "version": "3.10.5"
  },
  "orig_nbformat": 4,
  "vscode": {
   "interpreter": {
    "hash": "aee8b7b246df8f9039afb4144a1f6fd8d2ca17a180786b69acc140d282b71a49"
   }
  }
 },
 "nbformat": 4,
 "nbformat_minor": 2
}
